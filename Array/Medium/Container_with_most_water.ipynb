{
 "cells": [
  {
   "cell_type": "code",
   "execution_count": 1,
   "metadata": {},
   "outputs": [
    {
     "data": {
      "text/plain": [
       "'\\nYou are given an integer array height of length n. There are n vertical lines drawn such that the two endpoints of the ith line are (i, 0) and (i, height[i]).\\n\\nFind two lines that together with the x-axis form a container, such that the container contains the most water.\\n\\nReturn the maximum amount of water a container can store.\\n\\nNotice that you may not slant the container.\\n\\nExample 1:\\nInput: height = [1,8,6,2,5,4,8,3,7]\\nOutput: 49\\nExplanation: The above vertical lines are represented by array [1,8,6,2,5,4,8,3,7]. \\nIn this case, the max area of water (blue section) the container can contain is 49.\\n\\n\\nExample 2:\\nInput: height = [1,1]\\nOutput: 1\\n \\n\\nConstraints:\\n\\nn == height.length\\n2 <= n <= 105\\n0 <= height[i] <= 104\\n\\n'"
      ]
     },
     "execution_count": 1,
     "metadata": {},
     "output_type": "execute_result"
    }
   ],
   "source": [
    "'''\n",
    "You are given an integer array height of length n. There are n vertical lines drawn such that the two endpoints of the ith line are (i, 0) and (i, height[i]).\n",
    "\n",
    "Find two lines that together with the x-axis form a container, such that the container contains the most water.\n",
    "\n",
    "Return the maximum amount of water a container can store.\n",
    "\n",
    "Notice that you may not slant the container.\n",
    "\n",
    "Example 1:\n",
    "Input: height = [1,8,6,2,5,4,8,3,7]\n",
    "Output: 49\n",
    "Explanation: The above vertical lines are represented by array [1,8,6,2,5,4,8,3,7]. \n",
    "In this case, the max area of water (blue section) the container can contain is 49.\n",
    "\n",
    "\n",
    "Example 2:\n",
    "Input: height = [1,1]\n",
    "Output: 1\n",
    " \n",
    "\n",
    "Constraints:\n",
    "\n",
    "n == height.length\n",
    "2 <= n <= 105\n",
    "0 <= height[i] <= 104\n",
    "\n",
    "'''"
   ]
  },
  {
   "cell_type": "code",
   "execution_count": null,
   "metadata": {},
   "outputs": [],
   "source": [
    "class Solution:\n",
    "    def maxArea(self, height: List[int]) -> int:\n",
    "        left_idx = 0\n",
    "        right_idx = len(height)-1 \n",
    "        maxWater = 0\n",
    "        while left_idx < right_idx:\n",
    "            water_height = min(height[left_idx], height[right_idx])\n",
    "            current_water = (right_idx - left_idx) * water_height\n",
    "            maxWater = max(maxWater, current_water)\n",
    "            if height[left_idx] < height[right_idx]:\n",
    "                left_idx += 1\n",
    "            else:\n",
    "                right_idx -= 1\n",
    "        return maxWater"
   ]
  }
 ],
 "metadata": {
  "kernelspec": {
   "display_name": "py37",
   "language": "python",
   "name": "python3"
  },
  "language_info": {
   "codemirror_mode": {
    "name": "ipython",
    "version": 3
   },
   "file_extension": ".py",
   "mimetype": "text/x-python",
   "name": "python",
   "nbconvert_exporter": "python",
   "pygments_lexer": "ipython3",
   "version": "3.7.11"
  }
 },
 "nbformat": 4,
 "nbformat_minor": 2
}
